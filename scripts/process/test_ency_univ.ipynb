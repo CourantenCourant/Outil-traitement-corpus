{
 "cells": [
  {
   "cell_type": "code",
   "execution_count": 9,
   "id": "ec9f0820-7689-47f1-bd5f-5f69c9e5f834",
   "metadata": {},
   "outputs": [],
   "source": [
    "from selenium import webdriver\n",
    "from selenium.webdriver.common.by import By\n",
    "\n",
    "wd = webdriver.Chrome()"
   ]
  },
  {
   "cell_type": "code",
   "execution_count": 11,
   "id": "9b15ae47-59a1-4f32-b1de-32ee6e4e4c8e",
   "metadata": {},
   "outputs": [
    {
     "name": "stdout",
     "output_type": "stream",
     "text": [
      "La figure et le rôle dans l'histoire politique française de Georges Pompidou, président de la République française de 1969 à 1974, restent parfois négligés en raison d’une présidence écourtée, rejetée dans l'ombre par celle de son prestigieux prédécesseur Charles de Gaulle, et d’une personnalité consensuelle, dont l'absence apparente d'aspérités semblait peu prêter à commentaire. Pompidou mena pourtant au sommet de l'État une action intense et prolongée, imprimant une marque profonde dans les institutions de la Ve République et orientant durablement les choix politiques du nouveau régime.\n"
     ]
    }
   ],
   "source": [
    "wd.get(r'https://www.universalis.fr/encyclopedie/georges-pompidou/')\n",
    "\n",
    "element = wd.find_element(By.XPATH, '//*[@id=\"main-content\"]/div[2]/div[1]/p')\n",
    "\n",
    "print(element.text)"
   ]
  },
  {
   "cell_type": "code",
   "execution_count": null,
   "id": "9c0c254d-5104-4510-9eeb-65746954c0a7",
   "metadata": {},
   "outputs": [],
   "source": []
  }
 ],
 "metadata": {
  "kernelspec": {
   "display_name": "outil_corpus",
   "language": "python",
   "name": "outil_corpus"
  },
  "language_info": {
   "codemirror_mode": {
    "name": "ipython",
    "version": 3
   },
   "file_extension": ".py",
   "mimetype": "text/x-python",
   "name": "python",
   "nbconvert_exporter": "python",
   "pygments_lexer": "ipython3",
   "version": "3.11.5"
  }
 },
 "nbformat": 4,
 "nbformat_minor": 5
}
