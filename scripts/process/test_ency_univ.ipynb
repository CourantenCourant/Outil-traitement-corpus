{
 "cells": [
  {
   "cell_type": "markdown",
   "id": "51b43ea5",
   "metadata": {},
   "source": [
    "# Intro\n",
    "\n",
    "- Step 1: try to go from a class to a sub-class\n",
    "- Step 2: On a page without sub-class, go though all pages from the last to the first, and get the urls of all each page"
   ]
  },
  {
   "cell_type": "code",
   "execution_count": 1,
   "id": "ec9f0820-7689-47f1-bd5f-5f69c9e5f834",
   "metadata": {},
   "outputs": [],
   "source": [
    "from selenium import webdriver\n",
    "from selenium.webdriver.common.by import By\n",
    "from selenium.webdriver.support.ui import WebDriverWait\n",
    "from selenium.webdriver.support import expected_conditions as EC\n",
    "from selenium.webdriver.common.action_chains import ActionChains\n",
    "\n",
    "wd = webdriver.Chrome()\n",
    "wd.implicitly_wait(10)\n"
   ]
  },
  {
   "cell_type": "markdown",
   "id": "52b07f86",
   "metadata": {},
   "source": [
    "## Step 1\n",
    "Try to go from a class to a sub-class"
   ]
  },
  {
   "cell_type": "code",
   "execution_count": 20,
   "id": "9b15ae47-59a1-4f32-b1de-32ee6e4e4c8e",
   "metadata": {},
   "outputs": [],
   "source": [
    "wd.get(r'https://www.universalis.fr/classification/')\n",
    "\n",
    "cookie_button = wd.find_element(By.XPATH, '//*[@id=\"qc-cmp2-ui\"]/div[1]/button')\n",
    "cookie_button.click()"
   ]
  },
  {
   "cell_type": "code",
   "execution_count": 21,
   "id": "9c0c254d-5104-4510-9eeb-65746954c0a7",
   "metadata": {},
   "outputs": [],
   "source": [
    "example = wd.find_element(By.XPATH, '//*[@id=\"main-content\"]/section/section/div/a[1]')\n",
    "example.click()"
   ]
  },
  {
   "cell_type": "markdown",
   "id": "4a3a21cf",
   "metadata": {},
   "source": [
    "## Step 2\n",
    "On a page without sub-class, go though all pages from the last to the first, and get the urls of all each page"
   ]
  },
  {
   "cell_type": "code",
   "execution_count": 32,
   "id": "16ddd372",
   "metadata": {},
   "outputs": [],
   "source": [
    "wd.get(r'https://www.universalis.fr/classification/arts/architecture/architectes/architectes-de-1945-a-nos-jours/21/')"
   ]
  },
  {
   "cell_type": "code",
   "execution_count": 35,
   "id": "b50c2233",
   "metadata": {},
   "outputs": [
    {
     "name": "stdout",
     "output_type": "stream",
     "text": [
      "WHITE GEORGE M. (1920-2011)\n",
      "https://www.universalis.fr/encyclopedie/george-m-white/\n",
      "\n",
      "WISSA WASSEF RAMSÈS (1911-1974)\n",
      "https://www.universalis.fr/encyclopedie/ramses-wissa-wassef/\n",
      "\n",
      "WOGENSCKY ANDRÉ (1916-2004)\n",
      "https://www.universalis.fr/encyclopedie/andre-wogenscky/\n",
      "\n",
      "YAMASAKI MINORU (1912-1986)\n",
      "https://www.universalis.fr/encyclopedie/yamasaki/\n",
      "\n",
      "ZEHRFUSS BERNARD (1911-1996)\n",
      "https://www.universalis.fr/encyclopedie/bernard-zehrfuss/\n",
      "\n",
      "ZUMTHOR PETER (1943- )\n",
      "https://www.universalis.fr/encyclopedie/peter-zumthor/\n",
      "\n"
     ]
    }
   ],
   "source": [
    "articles = wd.find_elements(By.XPATH, '//*[@id=\"main-content\"]/section/section[1]/ul/li/h3/a[contains(@href, \"\")]')\n",
    "\n",
    "for article in articles:\n",
    "    url = article.get_attribute('href')\n",
    "    print(f'{article.text}\\n{url}\\n')"
   ]
  },
  {
   "cell_type": "code",
   "execution_count": 50,
   "id": "00c89eaa",
   "metadata": {},
   "outputs": [
    {
     "ename": "NoSuchElementException",
     "evalue": "Message: no such element: Unable to locate element: {\"method\":\"xpath\",\"selector\":\"//*[@id=\"main-content\"]/section/section[1]/div/div/ul/li[@class=\"page-item active\"]//preceding-sibling::li[1]\"}\n  (Session info: chrome=124.0.6367.207)\n",
     "output_type": "error",
     "traceback": [
      "\u001b[0;31m---------------------------------------------------------------------------\u001b[0m",
      "\u001b[0;31mNoSuchElementException\u001b[0m                    Traceback (most recent call last)",
      "Cell \u001b[0;32mIn[50], line 1\u001b[0m\n\u001b[0;32m----> 1\u001b[0m previous_page \u001b[38;5;241m=\u001b[39m wd\u001b[38;5;241m.\u001b[39mfind_element(By\u001b[38;5;241m.\u001b[39mXPATH, \u001b[38;5;124m'\u001b[39m\u001b[38;5;124m//*[@id=\u001b[39m\u001b[38;5;124m\"\u001b[39m\u001b[38;5;124mmain-content\u001b[39m\u001b[38;5;124m\"\u001b[39m\u001b[38;5;124m]/section/section[1]/div/div/ul/li[@class=\u001b[39m\u001b[38;5;124m\"\u001b[39m\u001b[38;5;124mpage-item active\u001b[39m\u001b[38;5;124m\"\u001b[39m\u001b[38;5;124m]//preceding-sibling::li[1]\u001b[39m\u001b[38;5;124m'\u001b[39m)\n\u001b[1;32m      2\u001b[0m previous_page\u001b[38;5;241m.\u001b[39mclick()\n",
      "File \u001b[0;32m/opt/anaconda3/envs/outil_corpus/lib/python3.11/site-packages/selenium/webdriver/remote/webdriver.py:976\u001b[0m, in \u001b[0;36mWebDriver.find_element\u001b[0;34m(self, by, value)\u001b[0m\n\u001b[1;32m    974\u001b[0m         by \u001b[38;5;241m=\u001b[39m By\u001b[38;5;241m.\u001b[39mCSS_SELECTOR\n\u001b[1;32m    975\u001b[0m         value \u001b[38;5;241m=\u001b[39m \u001b[38;5;124m'\u001b[39m\u001b[38;5;124m[name=\u001b[39m\u001b[38;5;124m\"\u001b[39m\u001b[38;5;132;01m%s\u001b[39;00m\u001b[38;5;124m\"\u001b[39m\u001b[38;5;124m]\u001b[39m\u001b[38;5;124m'\u001b[39m \u001b[38;5;241m%\u001b[39m value\n\u001b[0;32m--> 976\u001b[0m \u001b[38;5;28;01mreturn\u001b[39;00m \u001b[38;5;28mself\u001b[39m\u001b[38;5;241m.\u001b[39mexecute(Command\u001b[38;5;241m.\u001b[39mFIND_ELEMENT, {\n\u001b[1;32m    977\u001b[0m     \u001b[38;5;124m'\u001b[39m\u001b[38;5;124musing\u001b[39m\u001b[38;5;124m'\u001b[39m: by,\n\u001b[1;32m    978\u001b[0m     \u001b[38;5;124m'\u001b[39m\u001b[38;5;124mvalue\u001b[39m\u001b[38;5;124m'\u001b[39m: value})[\u001b[38;5;124m'\u001b[39m\u001b[38;5;124mvalue\u001b[39m\u001b[38;5;124m'\u001b[39m]\n",
      "File \u001b[0;32m/opt/anaconda3/envs/outil_corpus/lib/python3.11/site-packages/selenium/webdriver/remote/webdriver.py:321\u001b[0m, in \u001b[0;36mWebDriver.execute\u001b[0;34m(self, driver_command, params)\u001b[0m\n\u001b[1;32m    319\u001b[0m response \u001b[38;5;241m=\u001b[39m \u001b[38;5;28mself\u001b[39m\u001b[38;5;241m.\u001b[39mcommand_executor\u001b[38;5;241m.\u001b[39mexecute(driver_command, params)\n\u001b[1;32m    320\u001b[0m \u001b[38;5;28;01mif\u001b[39;00m response:\n\u001b[0;32m--> 321\u001b[0m     \u001b[38;5;28mself\u001b[39m\u001b[38;5;241m.\u001b[39merror_handler\u001b[38;5;241m.\u001b[39mcheck_response(response)\n\u001b[1;32m    322\u001b[0m     response[\u001b[38;5;124m'\u001b[39m\u001b[38;5;124mvalue\u001b[39m\u001b[38;5;124m'\u001b[39m] \u001b[38;5;241m=\u001b[39m \u001b[38;5;28mself\u001b[39m\u001b[38;5;241m.\u001b[39m_unwrap_value(\n\u001b[1;32m    323\u001b[0m         response\u001b[38;5;241m.\u001b[39mget(\u001b[38;5;124m'\u001b[39m\u001b[38;5;124mvalue\u001b[39m\u001b[38;5;124m'\u001b[39m, \u001b[38;5;28;01mNone\u001b[39;00m))\n\u001b[1;32m    324\u001b[0m     \u001b[38;5;28;01mreturn\u001b[39;00m response\n",
      "File \u001b[0;32m/opt/anaconda3/envs/outil_corpus/lib/python3.11/site-packages/selenium/webdriver/remote/errorhandler.py:242\u001b[0m, in \u001b[0;36mErrorHandler.check_response\u001b[0;34m(self, response)\u001b[0m\n\u001b[1;32m    240\u001b[0m         alert_text \u001b[38;5;241m=\u001b[39m value[\u001b[38;5;124m'\u001b[39m\u001b[38;5;124malert\u001b[39m\u001b[38;5;124m'\u001b[39m]\u001b[38;5;241m.\u001b[39mget(\u001b[38;5;124m'\u001b[39m\u001b[38;5;124mtext\u001b[39m\u001b[38;5;124m'\u001b[39m)\n\u001b[1;32m    241\u001b[0m     \u001b[38;5;28;01mraise\u001b[39;00m exception_class(message, screen, stacktrace, alert_text)\n\u001b[0;32m--> 242\u001b[0m \u001b[38;5;28;01mraise\u001b[39;00m exception_class(message, screen, stacktrace)\n",
      "\u001b[0;31mNoSuchElementException\u001b[0m: Message: no such element: Unable to locate element: {\"method\":\"xpath\",\"selector\":\"//*[@id=\"main-content\"]/section/section[1]/div/div/ul/li[@class=\"page-item active\"]//preceding-sibling::li[1]\"}\n  (Session info: chrome=124.0.6367.207)\n"
     ]
    }
   ],
   "source": [
    "previous_page = wd.find_element(By.XPATH, '//*[@id=\"main-content\"]/section/section[1]/div/div/ul/li[@class=\"page-item active\"]//preceding-sibling::li[1]')\n",
    "previous_page.click()"
   ]
  },
  {
   "cell_type": "markdown",
   "id": "c6543d05",
   "metadata": {},
   "source": [
    "### Step 2 finished"
   ]
  },
  {
   "cell_type": "markdown",
   "id": "6ebd0650",
   "metadata": {},
   "source": [
    "## Random tests"
   ]
  },
  {
   "cell_type": "code",
   "execution_count": 2,
   "id": "f041030a",
   "metadata": {},
   "outputs": [],
   "source": [
    "wd.get(r'https://www.universalis.fr/classification/arts/architecture/architectes/architectes-de-1945-a-nos-jours/')\n",
    "#last_page = wd.find_element(By.XPATH, '//*[@id=\"main-content\"]/section/section[1]/div/div/ul/li[last()]/a')\n",
    "\n",
    "last_page = wd.find_element(By.XPATH, '//*[@id=\"main-content\"]/section/section[1]/div/div/ul/li[last()]/a')"
   ]
  },
  {
   "cell_type": "code",
   "execution_count": 3,
   "id": "e036ccbe",
   "metadata": {},
   "outputs": [
    {
     "name": "stdout",
     "output_type": "stream",
     "text": [
      "<class 'str'>\n",
      "https://www.universalis.fr/classification/arts/architecture/architectes/architectes-de-1945-a-nos-jours/21/\n"
     ]
    }
   ],
   "source": [
    "href = last_page.get_attribute('href')\n",
    "print(type(href))\n",
    "print(href)"
   ]
  },
  {
   "cell_type": "code",
   "execution_count": 4,
   "id": "e88976aa",
   "metadata": {},
   "outputs": [],
   "source": [
    "another_page = wd.get(href)"
   ]
  },
  {
   "cell_type": "markdown",
   "id": "d56e0587",
   "metadata": {},
   "source": [
    "### Function test"
   ]
  },
  {
   "cell_type": "code",
   "execution_count": 4,
   "id": "be19b0ed",
   "metadata": {},
   "outputs": [],
   "source": [
    "from typing import List\n",
    "from selenium.common.exceptions import NoSuchElementException"
   ]
  },
  {
   "cell_type": "code",
   "execution_count": 5,
   "id": "c39b6eea",
   "metadata": {},
   "outputs": [],
   "source": [
    "def get_urls(page_url: str, wd) -> List[str]:\n",
    "    \"\"\"Get all articles' url of a page\"\"\"\n",
    "    print(f'Scrapping urls from {page_url}')\n",
    "    wd.get(page_url)\n",
    "    articles = wd.find_elements(By.XPATH, '//*[@id=\"main-content\"]/section/section[1]/ul/li/h3/a[contains(@href, \"\")]')\n",
    "    url_list = []\n",
    "    for article in articles:\n",
    "        url = article.get_attribute('href')\n",
    "        url_list.append(url)\n",
    "\n",
    "    return url_list"
   ]
  },
  {
   "cell_type": "code",
   "execution_count": 6,
   "id": "e0e3371c",
   "metadata": {},
   "outputs": [],
   "source": [
    "def get_subclass_pages(page_url: str, wd) -> List[str]:\n",
    "    \"\"\"A recursive funct that navigates through all pages of a subclass and get urls\"\"\"\n",
    "    url_list = get_urls(page_url, wd)\n",
    "\n",
    "    # Try to go to the next page\n",
    "    try:\n",
    "        next_page = wd.find_element(By.XPATH, '//*[@class=\"page-item active\"]//following-sibling::li[1]/a')\n",
    "        next_page_url = next_page.get_attribute('href')\n",
    "        print(f'Navigating to {next_page_url}')\n",
    "        url_list.extend(get_subclass_pages(next_page_url, wd))\n",
    "    # If at the last page\n",
    "    except NoSuchElementException:\n",
    "        print(\"Reached the last page, no further pages to navigate.\")\n",
    "    except Exception as e:  # Catch any other exception that might occur\n",
    "        print(f\"An error occurred: {e}\")\n",
    "        \n",
    "    return url_list"
   ]
  },
  {
   "cell_type": "code",
   "execution_count": 36,
   "id": "38316322",
   "metadata": {},
   "outputs": [
    {
     "name": "stdout",
     "output_type": "stream",
     "text": [
      "Scrapping urls from https://www.universalis.fr/classification/arts/architecture/architectes/architectes-de-1945-a-nos-jours/\n",
      "Navigating to https://www.universalis.fr/classification/arts/architecture/architectes/architectes-de-1945-a-nos-jours/2/\n",
      "Scrapping urls from https://www.universalis.fr/classification/arts/architecture/architectes/architectes-de-1945-a-nos-jours/2/\n",
      "Navigating to https://www.universalis.fr/classification/arts/architecture/architectes/architectes-de-1945-a-nos-jours/3/\n",
      "Scrapping urls from https://www.universalis.fr/classification/arts/architecture/architectes/architectes-de-1945-a-nos-jours/3/\n",
      "Navigating to https://www.universalis.fr/classification/arts/architecture/architectes/architectes-de-1945-a-nos-jours/4/\n",
      "Scrapping urls from https://www.universalis.fr/classification/arts/architecture/architectes/architectes-de-1945-a-nos-jours/4/\n",
      "Navigating to https://www.universalis.fr/classification/arts/architecture/architectes/architectes-de-1945-a-nos-jours/5/\n",
      "Scrapping urls from https://www.universalis.fr/classification/arts/architecture/architectes/architectes-de-1945-a-nos-jours/5/\n",
      "Navigating to https://www.universalis.fr/classification/arts/architecture/architectes/architectes-de-1945-a-nos-jours/6/\n",
      "Scrapping urls from https://www.universalis.fr/classification/arts/architecture/architectes/architectes-de-1945-a-nos-jours/6/\n",
      "Navigating to https://www.universalis.fr/classification/arts/architecture/architectes/architectes-de-1945-a-nos-jours/7/\n",
      "Scrapping urls from https://www.universalis.fr/classification/arts/architecture/architectes/architectes-de-1945-a-nos-jours/7/\n",
      "Navigating to https://www.universalis.fr/classification/arts/architecture/architectes/architectes-de-1945-a-nos-jours/8/\n",
      "Scrapping urls from https://www.universalis.fr/classification/arts/architecture/architectes/architectes-de-1945-a-nos-jours/8/\n",
      "Navigating to https://www.universalis.fr/classification/arts/architecture/architectes/architectes-de-1945-a-nos-jours/9/\n",
      "Scrapping urls from https://www.universalis.fr/classification/arts/architecture/architectes/architectes-de-1945-a-nos-jours/9/\n",
      "Navigating to https://www.universalis.fr/classification/arts/architecture/architectes/architectes-de-1945-a-nos-jours/10/\n",
      "Scrapping urls from https://www.universalis.fr/classification/arts/architecture/architectes/architectes-de-1945-a-nos-jours/10/\n",
      "Navigating to https://www.universalis.fr/classification/arts/architecture/architectes/architectes-de-1945-a-nos-jours/11/\n",
      "Scrapping urls from https://www.universalis.fr/classification/arts/architecture/architectes/architectes-de-1945-a-nos-jours/11/\n",
      "Navigating to https://www.universalis.fr/classification/arts/architecture/architectes/architectes-de-1945-a-nos-jours/12/\n",
      "Scrapping urls from https://www.universalis.fr/classification/arts/architecture/architectes/architectes-de-1945-a-nos-jours/12/\n",
      "Navigating to https://www.universalis.fr/classification/arts/architecture/architectes/architectes-de-1945-a-nos-jours/13/\n",
      "Scrapping urls from https://www.universalis.fr/classification/arts/architecture/architectes/architectes-de-1945-a-nos-jours/13/\n",
      "Navigating to https://www.universalis.fr/classification/arts/architecture/architectes/architectes-de-1945-a-nos-jours/14/\n",
      "Scrapping urls from https://www.universalis.fr/classification/arts/architecture/architectes/architectes-de-1945-a-nos-jours/14/\n",
      "Navigating to https://www.universalis.fr/classification/arts/architecture/architectes/architectes-de-1945-a-nos-jours/15/\n",
      "Scrapping urls from https://www.universalis.fr/classification/arts/architecture/architectes/architectes-de-1945-a-nos-jours/15/\n",
      "Navigating to https://www.universalis.fr/classification/arts/architecture/architectes/architectes-de-1945-a-nos-jours/16/\n",
      "Scrapping urls from https://www.universalis.fr/classification/arts/architecture/architectes/architectes-de-1945-a-nos-jours/16/\n",
      "Navigating to https://www.universalis.fr/classification/arts/architecture/architectes/architectes-de-1945-a-nos-jours/17/\n",
      "Scrapping urls from https://www.universalis.fr/classification/arts/architecture/architectes/architectes-de-1945-a-nos-jours/17/\n",
      "Navigating to https://www.universalis.fr/classification/arts/architecture/architectes/architectes-de-1945-a-nos-jours/18/\n",
      "Scrapping urls from https://www.universalis.fr/classification/arts/architecture/architectes/architectes-de-1945-a-nos-jours/18/\n",
      "Navigating to https://www.universalis.fr/classification/arts/architecture/architectes/architectes-de-1945-a-nos-jours/19/\n",
      "Scrapping urls from https://www.universalis.fr/classification/arts/architecture/architectes/architectes-de-1945-a-nos-jours/19/\n",
      "Navigating to https://www.universalis.fr/classification/arts/architecture/architectes/architectes-de-1945-a-nos-jours/20/\n",
      "Scrapping urls from https://www.universalis.fr/classification/arts/architecture/architectes/architectes-de-1945-a-nos-jours/20/\n",
      "Navigating to https://www.universalis.fr/classification/arts/architecture/architectes/architectes-de-1945-a-nos-jours/21/\n",
      "Scrapping urls from https://www.universalis.fr/classification/arts/architecture/architectes/architectes-de-1945-a-nos-jours/21/\n",
      "Reached the last page, no further pages to navigate.\n"
     ]
    }
   ],
   "source": [
    "test_page_url = 'https://www.universalis.fr/classification/arts/architecture/architectes/architectes-de-1945-a-nos-jours/'\n",
    "url_list = get_subclass_pages(test_page_url, wd)"
   ]
  },
  {
   "cell_type": "code",
   "execution_count": 24,
   "id": "88af802e",
   "metadata": {},
   "outputs": [
    {
     "name": "stdout",
     "output_type": "stream",
     "text": [
      "2\n",
      "https://www.universalis.fr/classification/arts/architecture/architectes/architectes-de-1945-a-nos-jours/2/\n"
     ]
    }
   ],
   "source": [
    "wd.get('https://www.universalis.fr/classification/arts/architecture/architectes/architectes-de-1945-a-nos-jours/')\n",
    "\n",
    "next_page = wd.find_element(By.XPATH, '//*[@class=\"page-item active\"]//following-sibling::li[1]/a')\n",
    "next_page_url = next_page.get_attribute('href')\n",
    "print(next_page.text)\n",
    "print(next_page_url)"
   ]
  },
  {
   "cell_type": "code",
   "execution_count": 37,
   "id": "1d855ad9",
   "metadata": {},
   "outputs": [
    {
     "name": "stdout",
     "output_type": "stream",
     "text": [
      "https://www.universalis.fr/encyclopedie/alvar-aalto/\n",
      "https://www.universalis.fr/encyclopedie/emile-aillaud/\n",
      "https://www.universalis.fr/encyclopedie/ando/\n",
      "https://www.universalis.fr/encyclopedie/andrault-parat/\n",
      "https://www.universalis.fr/encyclopedie/paul-andreu/\n"
     ]
    }
   ],
   "source": [
    "for url in url_list[:5]:\n",
    "    print(url)"
   ]
  },
  {
   "cell_type": "code",
   "execution_count": 38,
   "id": "b5138eee",
   "metadata": {},
   "outputs": [
    {
     "name": "stdout",
     "output_type": "stream",
     "text": [
      "206\n"
     ]
    }
   ],
   "source": [
    "print(len(url_list))"
   ]
  },
  {
   "cell_type": "markdown",
   "id": "3ffe9c0f",
   "metadata": {},
   "source": [
    "## Navigate through classes and subclasses"
   ]
  },
  {
   "cell_type": "code",
   "execution_count": 40,
   "id": "c2081e02",
   "metadata": {},
   "outputs": [
    {
     "name": "stdout",
     "output_type": "stream",
     "text": [
      "Architectes, XIXe s.\n",
      "96 articles\n",
      "3 médias\n"
     ]
    }
   ],
   "source": [
    "wd.get('https://www.universalis.fr/classification/arts/architecture/architectes/')\n",
    "\n",
    "\n",
    "first_page = wd.find_element(By.XPATH, '//*[@id=\"main-content\"]/section/section/div/a[1]')\n",
    "print(first_page.text)\n",
    "first_page.click()"
   ]
  },
  {
   "cell_type": "code",
   "execution_count": 45,
   "id": "542da9a2",
   "metadata": {},
   "outputs": [],
   "source": [
    "wd.get('https://www.universalis.fr/classification/arts/architecture/architectes/architectes-xixe-s/')\n",
    "\n",
    "try:\n",
    "    first_page = wd.find_element(By.XPATH, '//*[@id=\"main-content\"]/section/section/div/a[1]')\n",
    "    first_page.click()\n",
    "except NoSuchElementException:\n",
    "    wd.back()\n",
    "    url_list = wd.find_elements(By.XPATH, '//*[@id=\"main-content\"]/section/section/div/a')"
   ]
  },
  {
   "cell_type": "code",
   "execution_count": 47,
   "id": "d1d32b0a",
   "metadata": {},
   "outputs": [
    {
     "name": "stdout",
     "output_type": "stream",
     "text": [
      "Architectes, XIXe s.\n",
      "96 articles\n",
      "3 médias\n",
      "Architectes, XVIIe s.\n",
      "41 articles\n",
      "Architectes, XVIIIe s.\n",
      "118 articles\n",
      "Architectes, Antiquité\n",
      "12 articles\n",
      "Architectes, Moyen Âge\n",
      "26 articles\n",
      "Architectes, Renaissance\n",
      "76 articles\n",
      "2 médias\n",
      "Architectes, de 1900 à 1945\n",
      "128 articles\n",
      "5 médias\n",
      "Architectes, de 1945 à nos jours\n",
      "206 articles\n",
      "3 médias\n"
     ]
    }
   ],
   "source": [
    "for url in url_list:\n",
    "    print(url.text)"
   ]
  },
  {
   "cell_type": "code",
   "execution_count": 3,
   "id": "b2ef6bcb",
   "metadata": {},
   "outputs": [],
   "source": [
    "wd.get('https://www.universalis.fr/classification/arts/architecture/architectes/')"
   ]
  },
  {
   "cell_type": "code",
   "execution_count": null,
   "id": "3628f6af",
   "metadata": {},
   "outputs": [],
   "source": [
    "try:\n",
    "    pages = wd.find_element(By.XPATH, '//*[@id=\"main-content\"]/section/section/div/a')\n",
    "    current_page = \n",
    "except NoSuchElementException:\n",
    "    wd.back()\n",
    "    url_list = wd.find_elements(By.XPATH, '//*[@id=\"main-content\"]/section/section/div/a')"
   ]
  },
  {
   "cell_type": "code",
   "execution_count": 11,
   "id": "e540fa6f",
   "metadata": {},
   "outputs": [],
   "source": [
    "def navigate_classes(url, wd) -> List[str]:\n",
    "    wd.get(url)\n",
    "    \n",
    "    try:\n",
    "        classes = wd.find_elements(By.XPATH, '//*[@id=\"main-content\"]/section/section/div/a')\n",
    "        classes_url = []\n",
    "        for cls in classes:\n",
    "            cls_url = cls.get_attribute('href')\n",
    "            classes_url.append(cls_url)\n",
    "        url_list = []\n",
    "        for cls_url in classes_url:\n",
    "            url_list.extend(navigate_classes(cls_url, wd))\n",
    "    except NoSuchElementException:\n",
    "        return get_subclass_pages(url, wd)\n",
    "        \n",
    "    return url_list"
   ]
  },
  {
   "cell_type": "code",
   "execution_count": 14,
   "id": "2cc3fae3",
   "metadata": {},
   "outputs": [],
   "source": [
    "url_list = navigate_classes('https://www.universalis.fr/classification/arts/architecture/architectes/architectes-antiquite/', wd)"
   ]
  },
  {
   "cell_type": "code",
   "execution_count": 16,
   "id": "84df2068",
   "metadata": {},
   "outputs": [],
   "source": [
    "wd.get(r'https://www.universalis.fr/classification/arts/architecture/architectes/architectes-antiquite/')\n",
    "classes = wd.find_elements(By.XPATH, '//*[@id=\"main-content\"]/section/section/div/a')"
   ]
  },
  {
   "cell_type": "code",
   "execution_count": 32,
   "id": "92101d35",
   "metadata": {},
   "outputs": [],
   "source": [
    "def navigate_classes(url: str, limit: int, wd) -> List[str]:\n",
    "    wd.get(url)\n",
    "    classes = wd.find_elements(By.XPATH, '//*[@id=\"main-content\"]/section/section/div/a')\n",
    "\n",
    "    if not classes:  # Basic case, where on a page of articles\n",
    "        return get_subclass_pages(url, wd)\n",
    "\n",
    "    # Where on a page of classes\n",
    "    classes_url = []\n",
    "    for cls in classes:\n",
    "        cls_url = cls.get_attribute('href')\n",
    "        classes_url.append(cls_url)\n",
    "    url_list = []\n",
    "    count = 0\n",
    "    for cls_url in classes_url:\n",
    "        url_list.extend(navigate_classes(cls_url, limit, wd))\n",
    "        count += len(url_list)\n",
    "        if count >= limit:\n",
    "            print(f'Scrapping finished. Scrapped {count} urls.')\n",
    "            break\n",
    "    return url_list"
   ]
  },
  {
   "cell_type": "code",
   "execution_count": 33,
   "id": "96f6e50c",
   "metadata": {},
   "outputs": [
    {
     "name": "stdout",
     "output_type": "stream",
     "text": [
      "Scrapping urls from https://www.universalis.fr/classification/arts/architecture/architectes/architectes-xixe-s/\n",
      "Navigating to https://www.universalis.fr/classification/arts/architecture/architectes/architectes-xixe-s/2/\n",
      "Scrapping urls from https://www.universalis.fr/classification/arts/architecture/architectes/architectes-xixe-s/2/\n",
      "Navigating to https://www.universalis.fr/classification/arts/architecture/architectes/architectes-xixe-s/3/\n",
      "Scrapping urls from https://www.universalis.fr/classification/arts/architecture/architectes/architectes-xixe-s/3/\n",
      "Navigating to https://www.universalis.fr/classification/arts/architecture/architectes/architectes-xixe-s/4/\n",
      "Scrapping urls from https://www.universalis.fr/classification/arts/architecture/architectes/architectes-xixe-s/4/\n",
      "Navigating to https://www.universalis.fr/classification/arts/architecture/architectes/architectes-xixe-s/5/\n",
      "Scrapping urls from https://www.universalis.fr/classification/arts/architecture/architectes/architectes-xixe-s/5/\n",
      "Navigating to https://www.universalis.fr/classification/arts/architecture/architectes/architectes-xixe-s/6/\n",
      "Scrapping urls from https://www.universalis.fr/classification/arts/architecture/architectes/architectes-xixe-s/6/\n",
      "Navigating to https://www.universalis.fr/classification/arts/architecture/architectes/architectes-xixe-s/7/\n",
      "Scrapping urls from https://www.universalis.fr/classification/arts/architecture/architectes/architectes-xixe-s/7/\n",
      "Navigating to https://www.universalis.fr/classification/arts/architecture/architectes/architectes-xixe-s/8/\n",
      "Scrapping urls from https://www.universalis.fr/classification/arts/architecture/architectes/architectes-xixe-s/8/\n",
      "Navigating to https://www.universalis.fr/classification/arts/architecture/architectes/architectes-xixe-s/9/\n",
      "Scrapping urls from https://www.universalis.fr/classification/arts/architecture/architectes/architectes-xixe-s/9/\n",
      "Navigating to https://www.universalis.fr/classification/arts/architecture/architectes/architectes-xixe-s/10/\n",
      "Scrapping urls from https://www.universalis.fr/classification/arts/architecture/architectes/architectes-xixe-s/10/\n",
      "Reached the last page, no further pages to navigate.\n",
      "Scrapping urls from https://www.universalis.fr/classification/arts/architecture/architectes/architectes-xviie-s/\n",
      "Navigating to https://www.universalis.fr/classification/arts/architecture/architectes/architectes-xviie-s/2/\n",
      "Scrapping urls from https://www.universalis.fr/classification/arts/architecture/architectes/architectes-xviie-s/2/\n",
      "Navigating to https://www.universalis.fr/classification/arts/architecture/architectes/architectes-xviie-s/3/\n",
      "Scrapping urls from https://www.universalis.fr/classification/arts/architecture/architectes/architectes-xviie-s/3/\n",
      "Navigating to https://www.universalis.fr/classification/arts/architecture/architectes/architectes-xviie-s/4/\n",
      "Scrapping urls from https://www.universalis.fr/classification/arts/architecture/architectes/architectes-xviie-s/4/\n",
      "Navigating to https://www.universalis.fr/classification/arts/architecture/architectes/architectes-xviie-s/5/\n",
      "Scrapping urls from https://www.universalis.fr/classification/arts/architecture/architectes/architectes-xviie-s/5/\n",
      "Reached the last page, no further pages to navigate.\n",
      "Scrapping finished. Scrapped 233 urls.\n"
     ]
    }
   ],
   "source": [
    "url_list = navigate_classes('https://www.universalis.fr/classification/arts/architecture/architectes/', 100, wd)"
   ]
  },
  {
   "cell_type": "code",
   "execution_count": 28,
   "id": "32754e2d",
   "metadata": {},
   "outputs": [
    {
     "name": "stdout",
     "output_type": "stream",
     "text": [
      "696\n",
      "https://www.universalis.fr/encyclopedie/paul-abadie/\n",
      "https://www.universalis.fr/encyclopedie/jean-antoine-alavoine/\n",
      "https://www.universalis.fr/encyclopedie/charles-robert-ashbee/\n",
      "https://www.universalis.fr/encyclopedie/albert-ballu/\n",
      "https://www.universalis.fr/encyclopedie/theodore-ballu/\n"
     ]
    }
   ],
   "source": [
    "print(len(url_list))\n",
    "for url in url_list[:5]:\n",
    "    print(url)"
   ]
  },
  {
   "cell_type": "code",
   "execution_count": 39,
   "id": "d9c2d2ce",
   "metadata": {},
   "outputs": [],
   "source": [
    "def get_urls(current_page_url: str, wd) -> List[str]:\n",
    "    \"\"\"Get all articles' urls of a page\"\"\"\n",
    "    print(f'Scrapping urls at {current_page_url}')\n",
    "    wd.get(current_page_url)\n",
    "    xpath = '//*[@id=\"main-content\"]/section/section[position()=1 or position()=2]/ul/li/h3/a[contains(@href, \"\")]'\n",
    "    articles = wd.find_elements(By.XPATH, xpath)\n",
    "    url_list = []\n",
    "    for article in articles:\n",
    "        url = article.get_attribute('href')\n",
    "        url_list.append(url)\n",
    "\n",
    "    return url_list"
   ]
  },
  {
   "cell_type": "code",
   "execution_count": 40,
   "id": "4a411e9c",
   "metadata": {},
   "outputs": [],
   "source": [
    "def navigate_classes(url: str, limit:int, wd) -> List[str]:\n",
    "    \"\"\"A recursive function that gets all the pages of a specific class\"\"\"\n",
    "    wd.get(url)\n",
    "    classes = wd.find_elements(By.XPATH, '//*[@id=\"main-content\"]/section/section/div/a')\n",
    "\n",
    "    if not classes:  # Basic case, where on a page of articles\n",
    "        return []\n",
    "\n",
    "    # Where on a page of classes\n",
    "    classes_url = []\n",
    "    for cls in classes:\n",
    "        cls_url = cls.get_attribute('href')\n",
    "        classes_url.append(cls_url)\n",
    "    url_list = get_urls(url, wd)  # In case where this class page also have articles\n",
    "    count = len(url_list)\n",
    "    for cls_url in classes_url:\n",
    "        print(f'Navigating deeper into {cls_url}')\n",
    "        url_list.extend(navigate_classes(cls_url, limit, wd))\n",
    "        count += len(url_list)\n",
    "        if count >= limit:\n",
    "            break\n",
    "\n",
    "    return url_list"
   ]
  },
  {
   "cell_type": "code",
   "execution_count": 41,
   "id": "a978d5c0",
   "metadata": {},
   "outputs": [
    {
     "name": "stdout",
     "output_type": "stream",
     "text": [
      "Scrapping urls at https://www.universalis.fr/classification/arts/arts-generalites/marche-de-l-art/\n",
      "Navigating deeper into https://www.universalis.fr/classification/arts/arts-generalites/marche-de-l-art/galeries-d-art/\n",
      "Navigating deeper into https://www.universalis.fr/classification/arts/arts-generalites/marche-de-l-art/marchands-d-art/\n"
     ]
    }
   ],
   "source": [
    "url_list = navigate_classes('https://www.universalis.fr/classification/arts/arts-generalites/marche-de-l-art/', 1000, wd)"
   ]
  },
  {
   "cell_type": "code",
   "execution_count": 42,
   "id": "16a9577d",
   "metadata": {},
   "outputs": [
    {
     "name": "stdout",
     "output_type": "stream",
     "text": [
      "['https://www.universalis.fr/encyclopedie/art-l-art-et-son-objet-le-faux-en-art/', 'https://www.universalis.fr/encyclopedie/art-aspects-culturels-le-marche-de-l-art/', 'https://www.universalis.fr/encyclopedie/art-contemporain/', 'https://www.universalis.fr/encyclopedie/christie-s-et-sotheby-s/', 'https://www.universalis.fr/encyclopedie/trans-avant-garde/']\n"
     ]
    }
   ],
   "source": [
    "print(url_list)"
   ]
  },
  {
   "cell_type": "code",
   "execution_count": null,
   "id": "180c88a9",
   "metadata": {},
   "outputs": [],
   "source": []
  }
 ],
 "metadata": {
  "kernelspec": {
   "display_name": "outil_corpus",
   "language": "python",
   "name": "outil_corpus"
  },
  "language_info": {
   "codemirror_mode": {
    "name": "ipython",
    "version": 3
   },
   "file_extension": ".py",
   "mimetype": "text/x-python",
   "name": "python",
   "nbconvert_exporter": "python",
   "pygments_lexer": "ipython3",
   "version": "3.11.9"
  }
 },
 "nbformat": 4,
 "nbformat_minor": 5
}
