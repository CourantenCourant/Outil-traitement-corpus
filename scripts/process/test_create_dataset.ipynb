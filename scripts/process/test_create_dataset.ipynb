{
 "cells": [
  {
   "cell_type": "markdown",
   "id": "d9b82c92",
   "metadata": {},
   "source": [
    "# Intro\n",
    "The aim of this file is to:\n",
    "- Step 1: load a slice of wikipedia dataset from HuggingFace, in order to study its structure,\n",
    "- Step 2: the same thing but from a local file,\n",
    "- Step 3: store it in a parquet file to learn how to create a dataset."
   ]
  },
  {
   "cell_type": "markdown",
   "id": "8ffb0b5a",
   "metadata": {},
   "source": [
    "## Step 1\n",
    "Aim: load a slice of wikipedia dataset from HuggingFace"
   ]
  },
  {
   "cell_type": "code",
   "execution_count": 10,
   "id": "7bbe34bb",
   "metadata": {},
   "outputs": [],
   "source": [
    "\"\"\"Imports for loading datasets\"\"\"\n",
    "\n",
    "from datasets import load_dataset_builder, load_dataset, get_dataset_split_names, get_dataset_config_names"
   ]
  },
  {
   "cell_type": "code",
   "execution_count": 59,
   "id": "2831a914",
   "metadata": {},
   "outputs": [
    {
     "name": "stdout",
     "output_type": "stream",
     "text": [
      "['20220301.aa', '20220301.ab', '20220301.ace', '20220301.ady', '20220301.af', '20220301.ak', '20220301.als', '20220301.am', '20220301.an', '20220301.ang']\n"
     ]
    }
   ],
   "source": [
    "configs = get_dataset_config_names('wikipedia', trust_remote_code=True)\n",
    "\n",
    "print(configs[:10]) # Just to show some examples. We will use '20220301.fr'."
   ]
  },
  {
   "cell_type": "code",
   "execution_count": 60,
   "id": "b5a94ee4",
   "metadata": {},
   "outputs": [],
   "source": [
    "ds_builder = load_dataset_builder('wikipedia', '20220301.fr', trust_remote_code=True)"
   ]
  },
  {
   "cell_type": "code",
   "execution_count": 61,
   "id": "aa324fb4",
   "metadata": {},
   "outputs": [
    {
     "name": "stdout",
     "output_type": "stream",
     "text": [
      "Wikipedia dataset containing cleaned articles of all languages.\n",
      "The datasets are built from the Wikipedia dump\n",
      "(https://dumps.wikimedia.org/) with one split per language. Each example\n",
      "contains the content of one full Wikipedia article with cleaning to strip\n",
      "markdown and unwanted sections (references, etc.).\n",
      " \n",
      "\n",
      "{'id': Value(dtype='string', id=None), 'url': Value(dtype='string', id=None), 'title': Value(dtype='string', id=None), 'text': Value(dtype='string', id=None)}\n"
     ]
    }
   ],
   "source": [
    "print(ds_builder.info.description, '\\n')\n",
    "print(ds_builder.info.features)"
   ]
  },
  {
   "cell_type": "code",
   "execution_count": 62,
   "id": "e3550c52",
   "metadata": {},
   "outputs": [],
   "source": [
    "wikipedia = load_dataset('wikipedia', '20220301.fr', trust_remote_code=True, split='train', streaming=True)"
   ]
  },
  {
   "cell_type": "code",
   "execution_count": 63,
   "id": "af856e17",
   "metadata": {},
   "outputs": [],
   "source": [
    "# Create a slice of the first three columns of wikipedia dataset\n",
    "\n",
    "count = 0\n",
    "slice_wiki = []\n",
    "for column in wikipedia:\n",
    "    if count >= 3:\n",
    "        break\n",
    "    slice_wiki.append(column)\n",
    "    count += 1"
   ]
  },
  {
   "cell_type": "code",
   "execution_count": 64,
   "id": "74db7f5e",
   "metadata": {},
   "outputs": [
    {
     "name": "stdout",
     "output_type": "stream",
     "text": [
      "id: 3\n",
      "url: https://fr.wikipedia.org/wiki/Antoine%20Meillet\n",
      "title: Antoine Meillet\n",
      "text: Paul Jules Antoine Meillet, né le  à Moulins (Allier) et mort le  à Châteaumeillant (Cher), est le principal linguiste français des premières décennies du . Il est aussi philologue.\n",
      "\n",
      "Biographie \n",
      "D'ori\n",
      "\n",
      "id: 7\n",
      "url: https://fr.wikipedia.org/wiki/Alg%C3%A8bre%20lin%C3%A9aire\n",
      "title: Algèbre linéaire\n",
      "text: L’algèbre linéaire est la branche des mathématiques qui s'intéresse aux espaces vectoriels et aux transformations linéaires, formalisation générale des théories des systèmes d'équations linéaires.\n",
      "\n",
      "Hi\n",
      "\n",
      "id: 9\n",
      "url: https://fr.wikipedia.org/wiki/Alg%C3%A8bre%20g%C3%A9n%C3%A9rale\n",
      "title: Algèbre générale\n",
      "text: L'algèbre générale, ou algèbre abstraite, est la branche des mathématiques qui porte principalement sur l'étude des structures algébriques et de leurs relations. L'appellation algèbre générale s'oppos\n",
      "\n"
     ]
    }
   ],
   "source": [
    "for item in slice_wiki:\n",
    "    print(f\"\"\"id: {item['id']}\n",
    "url: {item['url']}\n",
    "title: {item['title']}\n",
    "text: {item['text'][:200]}\n",
    "\"\"\")"
   ]
  },
  {
   "cell_type": "markdown",
   "id": "caf1530b",
   "metadata": {},
   "source": [
    "### Step 1 finished\n",
    "Here we already have a general idea of a column in the wikipedia dataset. The \"id\" key doesn't mean much but I guess it is just a unique identifier for a column."
   ]
  },
  {
   "cell_type": "markdown",
   "id": "a44777eb",
   "metadata": {},
   "source": [
    "## Step 2\n",
    "Aim: load a slice of wikipedia dataset from a local parquet file"
   ]
  },
  {
   "cell_type": "code",
   "execution_count": 65,
   "id": "4cbf05ab",
   "metadata": {},
   "outputs": [],
   "source": [
    "local_parquet = '../../data/train-00035-of-00041.parquet' # This is the English parquet '20220301.fr'\n",
    "\n",
    "wiki_local = load_dataset('parquet', data_files=local_parquet, streaming=True)"
   ]
  },
  {
   "cell_type": "code",
   "execution_count": 66,
   "id": "bb61ddca",
   "metadata": {},
   "outputs": [],
   "source": [
    "count = 0\n",
    "slice_local = []\n",
    "for column in wikipedia:\n",
    "    if count >= 3:\n",
    "        break\n",
    "    slice_local.append(column)\n",
    "    count += 1"
   ]
  },
  {
   "cell_type": "code",
   "execution_count": 67,
   "id": "8323871a",
   "metadata": {},
   "outputs": [
    {
     "name": "stdout",
     "output_type": "stream",
     "text": [
      "id: 3\n",
      "url: https://fr.wikipedia.org/wiki/Antoine%20Meillet\n",
      "title: Antoine Meillet\n",
      "text: Paul Jules Antoine Meillet, né le  à Moulins (Allier) et mort le  à Châteaumeillant (Cher), est le principal linguiste français des premières décennies du . Il est aussi philologue.\n",
      "\n",
      "Biographie \n",
      "D'ori\n",
      "\n",
      "id: 7\n",
      "url: https://fr.wikipedia.org/wiki/Alg%C3%A8bre%20lin%C3%A9aire\n",
      "title: Algèbre linéaire\n",
      "text: L’algèbre linéaire est la branche des mathématiques qui s'intéresse aux espaces vectoriels et aux transformations linéaires, formalisation générale des théories des systèmes d'équations linéaires.\n",
      "\n",
      "Hi\n",
      "\n",
      "id: 9\n",
      "url: https://fr.wikipedia.org/wiki/Alg%C3%A8bre%20g%C3%A9n%C3%A9rale\n",
      "title: Algèbre générale\n",
      "text: L'algèbre générale, ou algèbre abstraite, est la branche des mathématiques qui porte principalement sur l'étude des structures algébriques et de leurs relations. L'appellation algèbre générale s'oppos\n",
      "\n"
     ]
    }
   ],
   "source": [
    "for item in slice_local:\n",
    "    print(f\"\"\"id: {item['id']}\n",
    "url: {item['url']}\n",
    "title: {item['title']}\n",
    "text: {item['text'][:200]}\n",
    "\"\"\")"
   ]
  },
  {
   "cell_type": "markdown",
   "id": "3dd92c4a",
   "metadata": {},
   "source": [
    "### Step 2 finished"
   ]
  },
  {
   "cell_type": "code",
   "execution_count": 71,
   "id": "ef9e337f",
   "metadata": {},
   "outputs": [],
   "source": [
    "\"\"\"Imports to create a dataset\"\"\"\n",
    "\n",
    "from datasets import Dataset"
   ]
  },
  {
   "cell_type": "code",
   "execution_count": 75,
   "id": "68c93202",
   "metadata": {},
   "outputs": [],
   "source": [
    "# Create our own dataset, with five random pages from wikipedia in Chinese\n",
    "\n",
    "dataset_dict = {'id': [], 'url': [], 'title': [], 'text': []}\n",
    "\n",
    "id_list = [1, 2, 3, 4, 5]\n",
    "url_list = ['https://zh.wikipedia.org/wiki/Python', \n",
    "            'https://zh.wikipedia.org/wiki/%E8%87%AA%E7%84%B6%E8%AF%AD%E8%A8%80%E5%A4%84%E7%90%86',\n",
    "            'https://zh.wikipedia.org/wiki/%E5%90%89%E5%A4%9A%C2%B7%E8%8C%83%E7%BD%97%E8%8B%8F%E5%A7%86',\n",
    "            'https://zh.wikipedia.org/wiki/Linux',\n",
    "            'https://zh.wikipedia.org/wiki/%E6%AD%BB%E4%BA%A1%E6%93%B1%E6%B7%BA']\n",
    "title_list = ['Python', '自然语言处理', '吉多·范罗苏姆', 'Linux', '死亡搁浅']\n",
    "text_list = ['Python（英国发音：/ˈpaɪθən/；美国发音：/ˈpaɪθɑːn/），是一种广泛使用的解释型、高级和通用的编程语言。',\n",
    "             '自然语言处理（英语：Natural Language Processing，缩写作 NLP）是人工智能和语言学领域的分支学科。',\n",
    "             '吉多·范罗苏姆（荷兰语：Guido van Rossum，1956年1月31日—），生于荷兰哈勒姆，计算机程序员，为Python程序设计语言的最初设计者及主要架构师。',\n",
    "             'Linux是一种自由和开放源码的类UNIX操作系统。该操作系统的内核由林纳斯·托瓦兹在1991年10月5日首次发布，再加上用户空间的应用程序之后，就成为了Linux操作系统。',\n",
    "             '《死亡搁浅》（日语：デス・ストランディング，英语：Death Stranding）是一款由小岛工作室开发，索尼互动娱乐发行的开放世界动作冒险游戏。']\n",
    "\n",
    "dataset_dict['id'] = id_list\n",
    "dataset_dict['url'] = url_list\n",
    "dataset_dict['title'] = title_list\n",
    "dataset_dict['text'] = text_list"
   ]
  },
  {
   "cell_type": "code",
   "execution_count": 76,
   "id": "9a118964",
   "metadata": {},
   "outputs": [
    {
     "name": "stdout",
     "output_type": "stream",
     "text": [
      "{'id': [1, 2, 3, 4, 5], 'url': ['https://zh.wikipedia.org/wiki/Python', 'https://zh.wikipedia.org/wiki/%E8%87%AA%E7%84%B6%E8%AF%AD%E8%A8%80%E5%A4%84%E7%90%86', 'https://zh.wikipedia.org/wiki/%E5%90%89%E5%A4%9A%C2%B7%E8%8C%83%E7%BD%97%E8%8B%8F%E5%A7%86', 'https://zh.wikipedia.org/wiki/Linux', 'https://zh.wikipedia.org/wiki/%E6%AD%BB%E4%BA%A1%E6%93%B1%E6%B7%BA'], 'title': ['Python', '自然语言处理', '吉多·范罗苏姆', 'Linux', '死亡搁浅'], 'text': ['Python（英国发音：/ˈpaɪθən/；美国发音：/ˈpaɪθɑːn/），是一种广泛使用的解释型、高级和通用的编程语言。', '自然语言处理（英语：Natural Language Processing，缩写作 NLP）是人工智能和语言学领域的分支学科。', '吉多·范罗苏姆（荷兰语：Guido van Rossum，1956年1月31日—），生于荷兰哈勒姆，计算机程序员，为Python程序设计语言的最初设计者及主要架构师。', 'Linux是一种自由和开放源码的类UNIX操作系统。该操作系统的内核由林纳斯·托瓦兹在1991年10月5日首次发布，再加上用户空间的应用程序之后，就成为了Linux操作系统。', '《死亡搁浅》（日语：デス・ストランディング，英语：Death Stranding）是一款由小岛工作室开发，索尼互动娱乐发行的开放世界动作冒险游戏。']}\n"
     ]
    }
   ],
   "source": [
    "print(dataset_dict)"
   ]
  },
  {
   "cell_type": "code",
   "execution_count": 78,
   "id": "eae0fe00",
   "metadata": {},
   "outputs": [
    {
     "name": "stdout",
     "output_type": "stream",
     "text": [
      "{'id': 1, 'url': 'https://zh.wikipedia.org/wiki/Python', 'title': 'Python', 'text': 'Python（英国发音：/ˈpaɪθən/；美国发音：/ˈpaɪθɑːn/），是一种广泛使用的解释型、高级和通用的编程语言。'}\n"
     ]
    }
   ],
   "source": [
    "my_ds = Dataset.from_dict(dataset_dict)\n",
    "print(my_ds[0])"
   ]
  },
  {
   "cell_type": "code",
   "execution_count": 79,
   "id": "bca7e649",
   "metadata": {},
   "outputs": [
    {
     "name": "stderr",
     "output_type": "stream",
     "text": [
      "Creating parquet from Arrow format: 100%|███████████████████████████████████| 1/1 [00:00<00:00, 60.87ba/s]\n"
     ]
    },
    {
     "data": {
      "text/plain": [
       "1341"
      ]
     },
     "execution_count": 79,
     "metadata": {},
     "output_type": "execute_result"
    }
   ],
   "source": [
    "output_file_path = '../../data/my_ds.parquet'\n",
    "my_ds.to_parquet(output_file_path, compression='snappy')"
   ]
  },
  {
   "cell_type": "code",
   "execution_count": 83,
   "id": "094056ce",
   "metadata": {},
   "outputs": [
    {
     "name": "stdout",
     "output_type": "stream",
     "text": [
      "{'id': 1, 'url': 'https://zh.wikipedia.org/wiki/Python', 'title': 'Python', 'text': 'Python（英国发音：/ˈpaɪθən/；美国发音：/ˈpaɪθɑːn/），是一种广泛使用的解释型、高级和通用的编程语言。'} \n",
      "\n",
      "{'id': 2, 'url': 'https://zh.wikipedia.org/wiki/%E8%87%AA%E7%84%B6%E8%AF%AD%E8%A8%80%E5%A4%84%E7%90%86', 'title': '自然语言处理', 'text': '自然语言处理（英语：Natural Language Processing，缩写作 NLP）是人工智能和语言学领域的分支学科。'} \n",
      "\n",
      "{'id': 3, 'url': 'https://zh.wikipedia.org/wiki/%E5%90%89%E5%A4%9A%C2%B7%E8%8C%83%E7%BD%97%E8%8B%8F%E5%A7%86', 'title': '吉多·范罗苏姆', 'text': '吉多·范罗苏姆（荷兰语：Guido van Rossum，1956年1月31日—），生于荷兰哈勒姆，计算机程序员，为Python程序设计语言的最初设计者及主要架构师。'} \n",
      "\n",
      "{'id': 4, 'url': 'https://zh.wikipedia.org/wiki/Linux', 'title': 'Linux', 'text': 'Linux是一种自由和开放源码的类UNIX操作系统。该操作系统的内核由林纳斯·托瓦兹在1991年10月5日首次发布，再加上用户空间的应用程序之后，就成为了Linux操作系统。'} \n",
      "\n",
      "{'id': 5, 'url': 'https://zh.wikipedia.org/wiki/%E6%AD%BB%E4%BA%A1%E6%93%B1%E6%B7%BA', 'title': '死亡搁浅', 'text': '《死亡搁浅》（日语：デス・ストランディング，英语：Death Stranding）是一款由小岛工作室开发，索尼互动娱乐发行的开放世界动作冒险游戏。'} \n",
      "\n"
     ]
    }
   ],
   "source": [
    "# See if it worked\n",
    "\n",
    "cn_ds = load_dataset('parquet', split='train', data_files=output_file_path)\n",
    "\n",
    "for item in cn_ds:\n",
    "    print(item, '\\n')"
   ]
  },
  {
   "cell_type": "code",
   "execution_count": null,
   "id": "ad5f0334",
   "metadata": {},
   "outputs": [],
   "source": []
  }
 ],
 "metadata": {
  "kernelspec": {
   "display_name": "outil_corpus",
   "language": "python",
   "name": "outil_corpus"
  },
  "language_info": {
   "codemirror_mode": {
    "name": "ipython",
    "version": 3
   },
   "file_extension": ".py",
   "mimetype": "text/x-python",
   "name": "python",
   "nbconvert_exporter": "python",
   "pygments_lexer": "ipython3",
   "version": "3.11.9"
  }
 },
 "nbformat": 4,
 "nbformat_minor": 5
}
