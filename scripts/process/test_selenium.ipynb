{
 "cells": [
  {
   "cell_type": "code",
   "execution_count": 17,
   "id": "15566d30-5737-40bb-89d5-7601e99519be",
   "metadata": {},
   "outputs": [],
   "source": [
    "from selenium import webdriver\n",
    "from selenium.webdriver.common.by import By\n",
    "\n",
    "wd = webdriver.Chrome()"
   ]
  },
  {
   "cell_type": "code",
   "execution_count": 27,
   "id": "da08045a-d994-4629-b4da-4ba0ad064600",
   "metadata": {},
   "outputs": [
    {
     "name": "stdout",
     "output_type": "stream",
     "text": [
      "土豆\n",
      "洋葱\n",
      "白菜\n",
      "狮子\n",
      "老虎\n",
      "山羊\n",
      "内层11\n",
      "内层12\n",
      "内层21\n",
      "版权\n",
      "发布日期：2018-03-03\n",
      "备案号 苏ICP备88885574号\n"
     ]
    }
   ],
   "source": [
    "wd.get(r'https://cdn2.byhy.net/files/selenium/sample1.html')\n",
    "\n",
    "elements = wd.find_elements(By.TAG_NAME, 'span')\n",
    "\n",
    "for element in elements:\n",
    "    print(element.text)"
   ]
  },
  {
   "cell_type": "code",
   "execution_count": 28,
   "id": "3b08d208-f624-45c2-a964-01f0ed388453",
   "metadata": {},
   "outputs": [
    {
     "name": "stdout",
     "output_type": "stream",
     "text": [
      "内层11\n",
      "内层12\n",
      "内层11\n",
      "内层12\n",
      "内层21\n",
      "内层21\n"
     ]
    }
   ],
   "source": [
    "# 通过WebElement对象选择元素\n",
    "\n",
    "wd.get(r'https://cdn2.byhy.net/files/selenium/sample1.html')\n",
    "\n",
    "element = wd.find_element(By.ID, 'container')\n",
    "elements = element.find_elements(By.TAG_NAME, 'div')\n",
    "\n",
    "for element in elements:\n",
    "    print(element.text)"
   ]
  },
  {
   "cell_type": "code",
   "execution_count": 34,
   "id": "aff872ef-d675-4500-940c-5ee71ebada65",
   "metadata": {},
   "outputs": [
    {
     "name": "stdout",
     "output_type": "stream",
     "text": [
      "国美通讯\n",
      "代码：600898\n"
     ]
    }
   ],
   "source": [
    "#等待界面元素出现\n",
    "\n",
    "wd.get(r'https://www.byhy.net/_files/stock1.html')\n",
    "wd.implicitly_wait(10)\n",
    "\n",
    "search_bar = wd.find_element(By.ID, 'kw')\n",
    "search_click = wd.find_element(By.ID, 'go')\n",
    "\n",
    "search_bar.send_keys('通讯')\n",
    "search_click.click()\n",
    "\n",
    "guo_mei = wd.find_element(By.ID, '1')\n",
    "\n",
    "print(guo_mei.text)"
   ]
  },
  {
   "cell_type": "code",
   "execution_count": null,
   "id": "8d5efedd-02d9-4785-9d19-2535abeab386",
   "metadata": {},
   "outputs": [],
   "source": []
  }
 ],
 "metadata": {
  "kernelspec": {
   "display_name": "outil_corpus",
   "language": "python",
   "name": "outil_corpus"
  },
  "language_info": {
   "codemirror_mode": {
    "name": "ipython",
    "version": 3
   },
   "file_extension": ".py",
   "mimetype": "text/x-python",
   "name": "python",
   "nbconvert_exporter": "python",
   "pygments_lexer": "ipython3",
   "version": "3.11.5"
  }
 },
 "nbformat": 4,
 "nbformat_minor": 5
}
