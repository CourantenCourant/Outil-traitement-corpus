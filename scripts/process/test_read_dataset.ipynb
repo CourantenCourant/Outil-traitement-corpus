{
 "cells": [
  {
   "cell_type": "code",
   "execution_count": 1,
   "id": "6e33745a-e97d-47bf-bcfb-254ff75b6a7f",
   "metadata": {},
   "outputs": [
    {
     "name": "stderr",
     "output_type": "stream",
     "text": [
      "/opt/anaconda3/envs/outil_corpus/lib/python3.11/site-packages/tqdm/auto.py:21: TqdmWarning: IProgress not found. Please update jupyter and ipywidgets. See https://ipywidgets.readthedocs.io/en/stable/user_install.html\n",
      "  from .autonotebook import tqdm as notebook_tqdm\n"
     ]
    }
   ],
   "source": [
    "from datasets import load_dataset_builder, load_dataset, get_dataset_split_names"
   ]
  },
  {
   "cell_type": "code",
   "execution_count": 2,
   "id": "651aade7",
   "metadata": {},
   "outputs": [],
   "source": [
    "ds_builder = load_dataset_builder('rotten_tomatoes')"
   ]
  },
  {
   "cell_type": "code",
   "execution_count": 3,
   "id": "7110961a",
   "metadata": {},
   "outputs": [
    {
     "name": "stdout",
     "output_type": "stream",
     "text": [
      "{'text': Value(dtype='string', id=None), 'label': ClassLabel(names=['neg', 'pos'], id=None)}\n",
      "\n"
     ]
    }
   ],
   "source": [
    "print(ds_builder.info.features)\n",
    "print(ds_builder.info.description)"
   ]
  },
  {
   "cell_type": "code",
   "execution_count": 4,
   "id": "2ceb3ca5",
   "metadata": {},
   "outputs": [
    {
     "name": "stdout",
     "output_type": "stream",
     "text": [
      "['train', 'validation', 'test']\n"
     ]
    }
   ],
   "source": [
    "split_names = get_dataset_split_names('rotten_tomatoes')\n",
    "print(split_names)"
   ]
  },
  {
   "cell_type": "code",
   "execution_count": 5,
   "id": "3b4273e3",
   "metadata": {},
   "outputs": [],
   "source": [
    "dataset = load_dataset('rotten_tomatoes', split='train')"
   ]
  },
  {
   "cell_type": "code",
   "execution_count": 54,
   "id": "c154434a",
   "metadata": {},
   "outputs": [
    {
     "name": "stdout",
     "output_type": "stream",
     "text": [
      "<class 'dict'> \n",
      "\n",
      "{'text': 'perhaps no picture ever made has more literally showed that the road to hell is paved with good intentions .', 'label': 1}\n"
     ]
    }
   ],
   "source": [
    "column_8 = dataset[7]\n",
    "print(type(column_8), '\\n')\n",
    "print(column_8)\n",
    "\n",
    "# So each column in a dataset is a dict with \"text\" and \"label\" as keys"
   ]
  },
  {
   "cell_type": "code",
   "execution_count": 47,
   "id": "0c0df200",
   "metadata": {},
   "outputs": [
    {
     "name": "stdout",
     "output_type": "stream",
     "text": [
      "<class 'list'> \n",
      "\n",
      "the rock is destined to be the 21st century's new \" conan \" and that he's going to make a splash even greater than arnold schwarzenegger , jean-claud van damme or steven segal . \n",
      "\n",
      "the gorgeously elaborate continuation of \" the lord of the rings \" trilogy is so huge that a column of words cannot adequately describe co-writer/director peter jackson's expanded vision of j . r . r . tolkien's middle-earth . \n",
      "\n",
      "effective but too-tepid biopic \n",
      "\n",
      "if you sometimes like to go to the movies to have fun , wasabi is a good place to start . \n",
      "\n",
      "emerges as something rare , an issue movie that's so honest and keenly observed that it doesn't feel like one . \n",
      "\n"
     ]
    }
   ],
   "source": [
    "all_texts = dataset['text']\n",
    "print(type(all_texts), '\\n')\n",
    "\n",
    "for text in all_texts[:5]:\n",
    "    print(text, '\\n')\n",
    "    \n",
    "# So a label returns a list of str."
   ]
  },
  {
   "cell_type": "code",
   "execution_count": 57,
   "id": "25905b14",
   "metadata": {},
   "outputs": [
    {
     "data": {
      "text/plain": [
       "{'text': ['the rock is destined to be the 21st century\\'s new \" conan \" and that he\\'s going to make a splash even greater than arnold schwarzenegger , jean-claud van damme or steven segal .',\n",
       "  'the gorgeously elaborate continuation of \" the lord of the rings \" trilogy is so huge that a column of words cannot adequately describe co-writer/director peter jackson\\'s expanded vision of j . r . r . tolkien\\'s middle-earth .',\n",
       "  'effective but too-tepid biopic'],\n",
       " 'label': [1, 1, 1]}"
      ]
     },
     "execution_count": 57,
     "metadata": {},
     "output_type": "execute_result"
    }
   ],
   "source": [
    "dataset[:3]\n",
    "\n",
    "# A slice of a dataset returns a dict with {'text': List[str], 'label: List[int]'} (int are labels).\n",
    "# BTW, this is why a slice of dataset always has the length of 2."
   ]
  },
  {
   "cell_type": "code",
   "execution_count": 59,
   "id": "877532a5",
   "metadata": {},
   "outputs": [],
   "source": [
    "iter_dataset = load_dataset('rotten_tomatoes', split='train', streaming=True)"
   ]
  },
  {
   "cell_type": "code",
   "execution_count": 64,
   "id": "680a639d",
   "metadata": {},
   "outputs": [
    {
     "name": "stdout",
     "output_type": "stream",
     "text": [
      "{'text': 'the rock is destined to be the 21st century\\'s new \" conan \" and that he\\'s going to make a splash even greater than arnold schwarzenegger , jean-claud van damme or steven segal .', 'label': 1}\n",
      "{'text': 'the gorgeously elaborate continuation of \" the lord of the rings \" trilogy is so huge that a column of words cannot adequately describe co-writer/director peter jackson\\'s expanded vision of j . r . r . tolkien\\'s middle-earth .', 'label': 1}\n",
      "{'text': 'effective but too-tepid biopic', 'label': 1}\n",
      "{'text': 'if you sometimes like to go to the movies to have fun , wasabi is a good place to start .', 'label': 1}\n",
      "{'text': \"emerges as something rare , an issue movie that's so honest and keenly observed that it doesn't feel like one .\", 'label': 1}\n"
     ]
    }
   ],
   "source": [
    "count = 0\n",
    "our_slice = []\n",
    "for example in iter_dataset:\n",
    "    if count == 5:\n",
    "        break\n",
    "    print(example)\n",
    "    our_slice.append(example)\n",
    "    count += 1\n",
    "    \n",
    "    \n",
    "# With iterable mode, we can create our own slice of wikipedia dataset to view its structure"
   ]
  },
  {
   "cell_type": "code",
   "execution_count": 65,
   "id": "746c4f66",
   "metadata": {},
   "outputs": [
    {
     "data": {
      "text/plain": [
       "list"
      ]
     },
     "execution_count": 65,
     "metadata": {},
     "output_type": "execute_result"
    }
   ],
   "source": [
    "type(our_slice)"
   ]
  },
  {
   "cell_type": "code",
   "execution_count": null,
   "id": "076f638b",
   "metadata": {},
   "outputs": [],
   "source": []
  }
 ],
 "metadata": {
  "kernelspec": {
   "display_name": "outil_corpus",
   "language": "python",
   "name": "outil_corpus"
  },
  "language_info": {
   "codemirror_mode": {
    "name": "ipython",
    "version": 3
   },
   "file_extension": ".py",
   "mimetype": "text/x-python",
   "name": "python",
   "nbconvert_exporter": "python",
   "pygments_lexer": "ipython3",
   "version": "3.11.9"
  }
 },
 "nbformat": 4,
 "nbformat_minor": 5
}
