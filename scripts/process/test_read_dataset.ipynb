{
 "cells": [
  {
   "cell_type": "code",
   "execution_count": 1,
   "id": "6e33745a-e97d-47bf-bcfb-254ff75b6a7f",
   "metadata": {},
   "outputs": [
    {
     "name": "stderr",
     "output_type": "stream",
     "text": [
      "/opt/anaconda3/envs/outil_corpus/lib/python3.11/site-packages/tqdm/auto.py:21: TqdmWarning: IProgress not found. Please update jupyter and ipywidgets. See https://ipywidgets.readthedocs.io/en/stable/user_install.html\n",
      "  from .autonotebook import tqdm as notebook_tqdm\n"
     ]
    }
   ],
   "source": [
    "from datasets import load_dataset_builder, load_dataset, get_dataset_split_names"
   ]
  },
  {
   "cell_type": "code",
   "execution_count": 2,
   "id": "651aade7",
   "metadata": {},
   "outputs": [
    {
     "name": "stderr",
     "output_type": "stream",
     "text": [
      "Downloading readme: 100%|████████████████████████████████████████████| 7.46k/7.46k [00:00<00:00, 6.59MB/s]\n"
     ]
    }
   ],
   "source": [
    "ds_builder = load_dataset_builder('rotten_tomatoes')"
   ]
  },
  {
   "cell_type": "code",
   "execution_count": 3,
   "id": "7110961a",
   "metadata": {},
   "outputs": [
    {
     "name": "stdout",
     "output_type": "stream",
     "text": [
      "{'text': Value(dtype='string', id=None), 'label': ClassLabel(names=['neg', 'pos'], id=None)}\n",
      "\n"
     ]
    }
   ],
   "source": [
    "print(ds_builder.info.features)\n",
    "print(ds_builder.info.description)"
   ]
  },
  {
   "cell_type": "code",
   "execution_count": 4,
   "id": "2ceb3ca5",
   "metadata": {},
   "outputs": [
    {
     "name": "stdout",
     "output_type": "stream",
     "text": [
      "['train', 'validation', 'test']\n"
     ]
    }
   ],
   "source": [
    "split_names = get_dataset_split_names('rotten_tomatoes')\n",
    "print(split_names)"
   ]
  },
  {
   "cell_type": "code",
   "execution_count": 5,
   "id": "3b4273e3",
   "metadata": {},
   "outputs": [
    {
     "name": "stderr",
     "output_type": "stream",
     "text": [
      "Downloading data: 100%|████████████████████████████████████████████████| 699k/699k [00:00<00:00, 1.68MB/s]\n",
      "Downloading data: 100%|███████████████████████████████████████████████| 90.0k/90.0k [00:00<00:00, 574kB/s]\n",
      "Downloading data: 100%|███████████████████████████████████████████████| 92.2k/92.2k [00:00<00:00, 566kB/s]\n",
      "Generating train split: 100%|██████████████████████████████| 8530/8530 [00:00<00:00, 326820.92 examples/s]\n",
      "Generating validation split: 100%|█████████████████████████| 1066/1066 [00:00<00:00, 134563.10 examples/s]\n",
      "Generating test split: 100%|███████████████████████████████| 1066/1066 [00:00<00:00, 139875.74 examples/s]\n"
     ]
    }
   ],
   "source": [
    "dataset = load_dataset('rotten_tomatoes', split='train')"
   ]
  },
  {
   "cell_type": "code",
   "execution_count": null,
   "id": "c154434a",
   "metadata": {},
   "outputs": [],
   "source": []
  }
 ],
 "metadata": {
  "kernelspec": {
   "display_name": "outil_corpus",
   "language": "python",
   "name": "outil_corpus"
  },
  "language_info": {
   "codemirror_mode": {
    "name": "ipython",
    "version": 3
   },
   "file_extension": ".py",
   "mimetype": "text/x-python",
   "name": "python",
   "nbconvert_exporter": "python",
   "pygments_lexer": "ipython3",
   "version": "3.11.9"
  }
 },
 "nbformat": 4,
 "nbformat_minor": 5
}
